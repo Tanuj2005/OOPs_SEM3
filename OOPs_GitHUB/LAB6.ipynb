{
 "cells": [
  {
   "cell_type": "markdown",
   "id": "4800022d-691e-4764-8b2e-4f53241965ac",
   "metadata": {},
   "source": [
    "# WAP in python to use various inbuilt function of list\n",
    "# WAP to pass the list as an argument in the function\n",
    "# WAP to take variable lengath argumenhts in function and perform cube of each elements\n",
    "# WAP to solve tower of hanoi for n=3 disk\n",
    "# WAP that accepts string and calculate the number of uppercase and lowercase letters in strings\n",
    "# WAP to calculate GCD of 2 numbers"
   ]
  },
  {
   "cell_type": "code",
   "execution_count": 1,
   "id": "33b5168f-feb0-4685-9ab7-c80f0ba1df6b",
   "metadata": {},
   "outputs": [
    {
     "name": "stdout",
     "output_type": "stream",
     "text": [
      "After append: [10, 20, 30, 40, 50, 60]\n",
      "After insert: [10, 20, 25, 30, 40, 50, 60]\n",
      "After remove: [10, 20, 25, 40, 50, 60]\n",
      "Popped value: 60\n",
      "After pop: [10, 20, 25, 40, 50]\n",
      "Sorted list: [50, 40, 25, 20, 10]\n"
     ]
    }
   ],
   "source": [
    "def list_functions_demo():\n",
    "    sample_list = [10, 20, 30, 40, 50]\n",
    "    \n",
    "    # Append\n",
    "    sample_list.append(60)\n",
    "    print(\"After append:\", sample_list)\n",
    "    \n",
    "    # Insert\n",
    "    sample_list.insert(2, 25)\n",
    "    print(\"After insert:\", sample_list)\n",
    "    \n",
    "    # Remove\n",
    "    sample_list.remove(30)\n",
    "    print(\"After remove:\", sample_list)\n",
    "    \n",
    "    # Pop\n",
    "    popped_value = sample_list.pop()\n",
    "    print(\"Popped value:\", popped_value)\n",
    "    print(\"After pop:\", sample_list)\n",
    "    \n",
    "    # Sort\n",
    "    sample_list.sort(reverse=True)\n",
    "    print(\"Sorted list:\", sample_list)\n",
    "\n",
    "list_functions_demo()\n"
   ]
  },
  {
   "cell_type": "code",
   "execution_count": 2,
   "id": "82943c49-0d63-4e3a-84ce-dccd05fccf4c",
   "metadata": {},
   "outputs": [
    {
     "name": "stdout",
     "output_type": "stream",
     "text": [
      "1\n",
      "2\n",
      "3\n",
      "4\n",
      "5\n"
     ]
    }
   ],
   "source": [
    "def print_list_elements(input_list):\n",
    "    for element in input_list:\n",
    "        print(element)\n",
    "\n",
    "my_list = [1, 2, 3, 4, 5]\n",
    "print_list_elements(my_list)\n"
   ]
  },
  {
   "cell_type": "code",
   "execution_count": 3,
   "id": "eb3ea1c7-729d-4446-956d-c3fec6ea56fb",
   "metadata": {},
   "outputs": [
    {
     "name": "stdout",
     "output_type": "stream",
     "text": [
      "Cubes of the elements: [1, 8, 27, 64]\n"
     ]
    }
   ],
   "source": [
    "def cube_of_elements(*args):\n",
    "    cubes = [x**3 for x in args]\n",
    "    return cubes\n",
    "\n",
    "result = cube_of_elements(1, 2, 3, 4)\n",
    "print(\"Cubes of the elements:\", result)\n"
   ]
  },
  {
   "cell_type": "code",
   "execution_count": 4,
   "id": "502389f1-6e1e-45e4-a9ad-a506f4879312",
   "metadata": {},
   "outputs": [
    {
     "name": "stdout",
     "output_type": "stream",
     "text": [
      "Move disk 1 from A to C\n",
      "Move disk 2 from A to B\n",
      "Move disk 1 from C to B\n",
      "Move disk 3 from A to C\n",
      "Move disk 1 from B to A\n",
      "Move disk 2 from B to C\n",
      "Move disk 1 from A to C\n"
     ]
    }
   ],
   "source": [
    "def tower_of_hanoi(n, source, target, auxiliary):\n",
    "    if n == 1:\n",
    "        print(f\"Move disk 1 from {source} to {target}\")\n",
    "        return\n",
    "    tower_of_hanoi(n - 1, source, auxiliary, target)\n",
    "    print(f\"Move disk {n} from {source} to {target}\")\n",
    "    tower_of_hanoi(n - 1, auxiliary, target, source)\n",
    "\n",
    "tower_of_hanoi(3, 'A', 'C', 'B')\n"
   ]
  },
  {
   "cell_type": "code",
   "execution_count": 5,
   "id": "c6536991-0f3a-4171-9714-8af59fe13588",
   "metadata": {},
   "outputs": [
    {
     "name": "stdout",
     "output_type": "stream",
     "text": [
      "Uppercase letters: 2, Lowercase letters: 8\n"
     ]
    }
   ],
   "source": [
    "def count_case(s):\n",
    "    upper_count = sum(1 for c in s if c.isupper())\n",
    "    lower_count = sum(1 for c in s if c.islower())\n",
    "    return upper_count, lower_count\n",
    "\n",
    "input_string = \"Hello World!\"\n",
    "upper, lower = count_case(input_string)\n",
    "print(f\"Uppercase letters: {upper}, Lowercase letters: {lower}\")\n"
   ]
  },
  {
   "cell_type": "code",
   "execution_count": 6,
   "id": "61c1ef33-e6f6-4225-8d49-a29336d0d31b",
   "metadata": {},
   "outputs": [
    {
     "name": "stdout",
     "output_type": "stream",
     "text": [
      "GCD of 48 and 18 is: 6\n"
     ]
    }
   ],
   "source": [
    "import math\n",
    "\n",
    "def calculate_gcd(a, b):\n",
    "    return math.gcd(a, b)\n",
    "\n",
    "num1 = 48\n",
    "num2 = 18\n",
    "gcd = calculate_gcd(num1, num2)\n",
    "print(f\"GCD of {num1} and {num2} is: {gcd}\")\n"
   ]
  },
  {
   "cell_type": "code",
   "execution_count": null,
   "id": "e73eed78-c223-4a41-930d-2bcf61478156",
   "metadata": {},
   "outputs": [],
   "source": []
  }
 ],
 "metadata": {
  "kernelspec": {
   "display_name": "Python 3 (ipykernel)",
   "language": "python",
   "name": "python3"
  },
  "language_info": {
   "codemirror_mode": {
    "name": "ipython",
    "version": 3
   },
   "file_extension": ".py",
   "mimetype": "text/x-python",
   "name": "python",
   "nbconvert_exporter": "python",
   "pygments_lexer": "ipython3",
   "version": "3.12.4"
  }
 },
 "nbformat": 4,
 "nbformat_minor": 5
}
