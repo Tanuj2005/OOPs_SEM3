{
 "cells": [
  {
   "cell_type": "markdown",
   "id": "f30c6db0-ed46-4f40-9f2a-0898b7e01dd3",
   "metadata": {},
   "source": [
    "# 1. WAP to check if the given number is a disarium number (1^1 + 7^2 + 5^3 = 1 + 49 + 125 = 175)."
   ]
  },
  {
   "cell_type": "code",
   "execution_count": 12,
   "id": "b8673956-0cd3-496e-99f4-c809ef1ee56a",
   "metadata": {},
   "outputs": [
    {
     "name": "stdin",
     "output_type": "stream",
     "text": [
      "Enter a number to be checked:  85\n"
     ]
    }
   ],
   "source": [
    "num = int(input(\"Enter a number to be checked: \"))"
   ]
  },
  {
   "cell_type": "code",
   "execution_count": 13,
   "id": "77e607bd-e99c-4c2f-95b7-c0afbd80e925",
   "metadata": {},
   "outputs": [
    {
     "name": "stdout",
     "output_type": "stream",
     "text": [
      "The list from number is [8, 5]\n"
     ]
    }
   ],
   "source": [
    "res = list(map(int, str(num)))\n",
    " \n",
    "# printing result\n",
    "print(\"The list from number is \" + str(res))"
   ]
  },
  {
   "cell_type": "code",
   "execution_count": 14,
   "id": "1f73c888-4416-474e-bf06-9509be7479c5",
   "metadata": {},
   "outputs": [],
   "source": [
    "power = 1\n",
    "sum = 0\n",
    "for i in res:\n",
    "    sum = sum + (i**power)\n",
    "    power=power+1"
   ]
  },
  {
   "cell_type": "code",
   "execution_count": 15,
   "id": "6b773b49-5402-43d3-a20c-5db95effd0e3",
   "metadata": {},
   "outputs": [
    {
     "name": "stdout",
     "output_type": "stream",
     "text": [
      "No\n"
     ]
    }
   ],
   "source": [
    "if(sum == num):\n",
    "    print(\"Yes\")\n",
    "else:\n",
    "    print(\"No\")"
   ]
  },
  {
   "cell_type": "markdown",
   "id": "91b3e2a2-eb11-4ca2-bd15-9f7874f6db0d",
   "metadata": {},
   "source": [
    "# 2. WAP to determine whether the given number is a harshad number(If a number is divisible by the sum of its digits, then it will be known as a harshad number)."
   ]
  },
  {
   "cell_type": "code",
   "execution_count": 16,
   "id": "fc51ce1d-798a-4bc5-a138-7b2d45cfce7b",
   "metadata": {},
   "outputs": [
    {
     "name": "stdin",
     "output_type": "stream",
     "text": [
      "Enter a number to be checked:  12\n"
     ]
    }
   ],
   "source": [
    "num = int(input(\"Enter a number to be checked: \"))"
   ]
  },
  {
   "cell_type": "code",
   "execution_count": 17,
   "id": "6bf9d218-4c55-45a7-b436-c6eb808f0ff3",
   "metadata": {},
   "outputs": [
    {
     "name": "stdout",
     "output_type": "stream",
     "text": [
      "The list from number is [1, 2]\n"
     ]
    }
   ],
   "source": [
    "res = list(map(int, str(num)))\n",
    " \n",
    "# printing result\n",
    "print(\"The list from number is \" + str(res))"
   ]
  },
  {
   "cell_type": "code",
   "execution_count": 18,
   "id": "34507ed8-9c04-4923-8d1e-4ebab93c463b",
   "metadata": {},
   "outputs": [],
   "source": [
    "sum = 0\n",
    "for i in res:\n",
    "    sum = sum +i\n",
    "    "
   ]
  },
  {
   "cell_type": "code",
   "execution_count": 20,
   "id": "e2e46fb3-56dc-4437-be51-4bed15715e13",
   "metadata": {},
   "outputs": [
    {
     "name": "stdout",
     "output_type": "stream",
     "text": [
      "YES\n"
     ]
    }
   ],
   "source": [
    "if(num%sum == 0):\n",
    "    print(\"YES\")\n",
    "else:\n",
    "    print(\"NO\")"
   ]
  },
  {
   "cell_type": "markdown",
   "id": "5b432c9f-0a9f-4eb0-8e49-b7712c4cbdc9",
   "metadata": {},
   "source": [
    "# 3. WAP to print Armstrong number from 1 to 1000"
   ]
  },
  {
   "cell_type": "code",
   "execution_count": 5,
   "id": "a7cae3f6-f4b6-4d9b-b535-85f2fc6b8d58",
   "metadata": {},
   "outputs": [
    {
     "name": "stdout",
     "output_type": "stream",
     "text": [
      "1\n",
      "2\n",
      "3\n",
      "4\n",
      "5\n",
      "6\n",
      "7\n",
      "8\n",
      "9\n",
      "153\n",
      "370\n",
      "371\n",
      "407\n"
     ]
    }
   ],
   "source": [
    "for i in range(1,1001):\n",
    "    res = list(map(int, str(i)))\n",
    " \n",
    "\n",
    "\n",
    "    power = len(res)\n",
    "    sum = 0\n",
    "    for j in res:\n",
    "        sum = sum + (j**power)\n",
    "          \n",
    "    if(sum == i):\n",
    "        print(i)\n"
   ]
  },
  {
   "cell_type": "markdown",
   "id": "750b642a-e193-42ed-a15c-59e24daca8cb",
   "metadata": {},
   "source": [
    "# 4. WAP a program to compute the value of X^n"
   ]
  },
  {
   "cell_type": "code",
   "execution_count": 6,
   "id": "4216c479-f32f-419b-9b00-0e5734790176",
   "metadata": {},
   "outputs": [
    {
     "name": "stdin",
     "output_type": "stream",
     "text": [
      "Enter the value of X:  4\n"
     ]
    }
   ],
   "source": [
    "X = int(input(\"Enter the value of X: \"))"
   ]
  },
  {
   "cell_type": "code",
   "execution_count": 7,
   "id": "332d24f3-320c-4312-852f-5841b398fcf2",
   "metadata": {},
   "outputs": [
    {
     "name": "stdin",
     "output_type": "stream",
     "text": [
      "Enter the value of n:  5\n"
     ]
    }
   ],
   "source": [
    "n = int(input(\"Enter the value of n: \"))"
   ]
  },
  {
   "cell_type": "code",
   "execution_count": 8,
   "id": "b6e37943-79ea-43b6-908e-58631b140490",
   "metadata": {},
   "outputs": [
    {
     "name": "stdout",
     "output_type": "stream",
     "text": [
      "1024\n"
     ]
    }
   ],
   "source": [
    "print(X**n)"
   ]
  },
  {
   "cell_type": "markdown",
   "id": "70f1eb13-acd8-4bed-b885-b8deba5f0151",
   "metadata": {},
   "source": [
    "# 5. Program to Calculate the value of nCr (Combination)"
   ]
  },
  {
   "cell_type": "code",
   "execution_count": 1,
   "id": "a113f1fd-b4f4-4969-b4dc-b284a1ea9e19",
   "metadata": {},
   "outputs": [
    {
     "name": "stdout",
     "output_type": "stream",
     "text": [
      "5C3 = 10\n"
     ]
    }
   ],
   "source": [
    "import math\n",
    "\n",
    "def nCr(n, r):\n",
    "    return math.factorial(n) // (math.factorial(r) * math.factorial(n - r))\n",
    "\n",
    "# Example usage\n",
    "n = 5\n",
    "r = 3\n",
    "print(f\"{n}C{r} = {nCr(n, r)}\")\n"
   ]
  },
  {
   "cell_type": "markdown",
   "id": "2a39ec5b-f540-4007-b8c2-6c7a5559ba84",
   "metadata": {},
   "source": [
    "# 6. Program to Generate the Fibonacci Series"
   ]
  },
  {
   "cell_type": "code",
   "execution_count": 2,
   "id": "15d21b9f-f7ee-44b5-a721-abb4b1cffb95",
   "metadata": {},
   "outputs": [
    {
     "name": "stdout",
     "output_type": "stream",
     "text": [
      "Fibonacci series up to 10 terms: [0, 1, 1, 2, 3, 5, 8, 13, 21, 34]\n"
     ]
    }
   ],
   "source": [
    "def fibonacci(n):\n",
    "    fib_series = [0, 1]\n",
    "    for i in range(2, n):\n",
    "        fib_series.append(fib_series[-1] + fib_series[-2])\n",
    "    return fib_series[:n]\n",
    "\n",
    "# Example usage\n",
    "n = 10\n",
    "print(f\"Fibonacci series up to {n} terms: {fibonacci(n)}\")\n"
   ]
  },
  {
   "cell_type": "markdown",
   "id": "54ee7df8-7117-4f4f-8ace-c6d4bc716146",
   "metadata": {},
   "source": [
    "# 7. Program to Count the Sum of Digits in the Entered Number"
   ]
  },
  {
   "cell_type": "code",
   "execution_count": 3,
   "id": "e16b5bad-a218-4671-a5ea-f2ce0df129d6",
   "metadata": {},
   "outputs": [
    {
     "name": "stdout",
     "output_type": "stream",
     "text": [
      "Sum of digits in 12345 is 15\n"
     ]
    }
   ],
   "source": [
    "def sum_of_digits(n):\n",
    "    return sum(int(digit) for digit in str(n))\n",
    "\n",
    "# Example usage\n",
    "n = 12345\n",
    "print(f\"Sum of digits in {n} is {sum_of_digits(n)}\")\n"
   ]
  },
  {
   "cell_type": "markdown",
   "id": "1b897a61-7423-4381-b3f6-1f581c04f1c3",
   "metadata": {},
   "source": [
    "# 8. Program to Find the Reverse of a Given Number"
   ]
  },
  {
   "cell_type": "code",
   "execution_count": 4,
   "id": "ef5869d0-0d9d-4d82-bd56-e01a1c3d04d7",
   "metadata": {},
   "outputs": [
    {
     "name": "stdout",
     "output_type": "stream",
     "text": [
      "Reverse of 12345 is 54321\n"
     ]
    }
   ],
   "source": [
    "def reverse_number(n):\n",
    "    return int(str(n)[::-1])\n",
    "\n",
    "# Example usage\n",
    "n = 12345\n",
    "print(f\"Reverse of {n} is {reverse_number(n)}\")\n"
   ]
  },
  {
   "cell_type": "markdown",
   "id": "b80f2241-ecb2-4ae6-87c3-39018b95c775",
   "metadata": {},
   "source": [
    "# 9. Program to Check whether a Given Number is Perfect Number"
   ]
  },
  {
   "cell_type": "code",
   "execution_count": 5,
   "id": "598231a5-6742-4ff7-984a-5413816e56e9",
   "metadata": {},
   "outputs": [
    {
     "name": "stdout",
     "output_type": "stream",
     "text": [
      "28 is a Perfect Number\n"
     ]
    }
   ],
   "source": [
    "def is_perfect_number(n):\n",
    "    divisors_sum = sum(i for i in range(1, n) if n % i == 0)\n",
    "    return divisors_sum == n\n",
    "\n",
    "# Example usage\n",
    "n = 28\n",
    "if is_perfect_number(n):\n",
    "    print(f\"{n} is a Perfect Number\")\n",
    "else:\n",
    "    print(f\"{n} is not a Perfect Number\")\n"
   ]
  },
  {
   "cell_type": "markdown",
   "id": "3eae0d59-7d1c-4a9f-9a1f-5ddfc3913479",
   "metadata": {},
   "source": [
    "# 10. Program to Check whether a Given Number is Palindrome or Not"
   ]
  },
  {
   "cell_type": "code",
   "execution_count": 6,
   "id": "6796d545-8443-44b6-91fa-20b7c1aa623b",
   "metadata": {},
   "outputs": [
    {
     "name": "stdout",
     "output_type": "stream",
     "text": [
      "121 is a Palindrome\n"
     ]
    }
   ],
   "source": [
    "def is_palindrome(n):\n",
    "    return str(n) == str(n)[::-1]\n",
    "\n",
    "# Example usage\n",
    "n = 121\n",
    "if is_palindrome(n):\n",
    "    print(f\"{n} is a Palindrome\")\n",
    "else:\n",
    "    print(f\"{n} is not a Palindrome\")\n"
   ]
  },
  {
   "cell_type": "markdown",
   "id": "4ed75308-d1e5-4f89-921e-efa988c16e4a",
   "metadata": {},
   "source": [
    "# 11-22 Pattern questions"
   ]
  },
  {
   "cell_type": "code",
   "execution_count": 34,
   "id": "8bbad182-9172-4a49-9d02-e46ce2797836",
   "metadata": {},
   "outputs": [
    {
     "name": "stdout",
     "output_type": "stream",
     "text": [
      "1 \n",
      "1 2 \n",
      "1 2 3 \n",
      "1 2 3 4 \n",
      "1 2 3 4 5 \n"
     ]
    }
   ],
   "source": [
    "def pattern_1(n):\n",
    "    for i in range(1, n+1):\n",
    "        for j in range(1, i+1):\n",
    "            print(j, end=\" \")\n",
    "        print()\n",
    "\n",
    "# Example usage\n",
    "pattern_1(5)\n"
   ]
  },
  {
   "cell_type": "code",
   "execution_count": 9,
   "id": "812691a3-a8f7-4c5f-9482-47253e9d2cca",
   "metadata": {},
   "outputs": [
    {
     "name": "stdout",
     "output_type": "stream",
     "text": [
      "1 \n",
      "2 2 \n",
      "3 3 3 \n",
      "4 4 4 4 \n",
      "5 5 5 5 5 \n"
     ]
    }
   ],
   "source": [
    "def pattern_2(n):\n",
    "    for i in range(1, n+1):\n",
    "        for j in range(i):\n",
    "            print(i, end=\" \")\n",
    "        print()\n",
    "\n",
    "# Example usage\n",
    "pattern_2(5)\n"
   ]
  },
  {
   "cell_type": "code",
   "execution_count": 10,
   "id": "57652441-b273-4753-899b-3f5b565a904b",
   "metadata": {},
   "outputs": [
    {
     "name": "stdout",
     "output_type": "stream",
     "text": [
      "A \n",
      "B B \n",
      "C C C \n",
      "D D D D \n",
      "E E E E E \n"
     ]
    }
   ],
   "source": [
    "def pattern_3(n):\n",
    "    for i in range(1, n+1):\n",
    "        print((chr(64+i) + \" \") * i)\n",
    "\n",
    "# Example usage\n",
    "pattern_3(5)\n"
   ]
  },
  {
   "cell_type": "code",
   "execution_count": 11,
   "id": "13a346fe-723f-4230-8ac2-e57186df3ab1",
   "metadata": {},
   "outputs": [
    {
     "name": "stdout",
     "output_type": "stream",
     "text": [
      "* * * * * \n",
      "* * * * \n",
      "* * * \n",
      "* * \n",
      "* \n"
     ]
    }
   ],
   "source": [
    "def pattern_4(n):\n",
    "    for i in range(n, 0, -1):\n",
    "        print(\"* \" * i)\n",
    "\n",
    "# Example usage\n",
    "pattern_4(5)\n"
   ]
  },
  {
   "cell_type": "code",
   "execution_count": 12,
   "id": "f9e99106-33ba-4059-8465-33be05805448",
   "metadata": {},
   "outputs": [
    {
     "name": "stdout",
     "output_type": "stream",
     "text": [
      "1 2 3 4 5 \n",
      "1 2 3 4 \n",
      "1 2 3 \n",
      "1 2 \n",
      "1 \n"
     ]
    }
   ],
   "source": [
    "def pattern_5(n):\n",
    "    for i in range(n, 0, -1):\n",
    "        for j in range(1, i+1):\n",
    "            print(j, end=\" \")\n",
    "        print()\n",
    "\n",
    "# Example usage\n",
    "pattern_5(5)\n"
   ]
  },
  {
   "cell_type": "code",
   "execution_count": 47,
   "id": "b30e7289-ddc1-4947-bfb7-887e64da9f45",
   "metadata": {},
   "outputs": [
    {
     "name": "stdout",
     "output_type": "stream",
     "text": [
      "        * \n",
      "      * * * \n",
      "    * * * * * \n",
      "  * * * * * * * \n",
      "* * * * * * * * * \n"
     ]
    }
   ],
   "source": [
    "def pattern_6(n):\n",
    "    x=\" \"\n",
    "    for i in range(1,n+1):\n",
    "        if i%2 == 0:\n",
    "            continue\n",
    "        print(x * ((n) - i) + \"* \" * i,sep =\"\")\n",
    "\n",
    "# Example usage\n",
    "pattern_6(9)\n"
   ]
  },
  {
   "cell_type": "code",
   "execution_count": 57,
   "id": "b33cd875-f5df-484d-8775-8f21fa96b5eb",
   "metadata": {},
   "outputs": [
    {
     "name": "stdout",
     "output_type": "stream",
     "text": [
      "        1 \n",
      "      2 3 2 \n",
      "    3 4 5 4 3 \n",
      "  4 5 6 7 6 5 4 \n",
      "5 6 7 8 9 8 7 6 5 \n"
     ]
    }
   ],
   "source": [
    "def print_pattern(n):\n",
    "    for i in range(1, n+1):\n",
    "        # Print leading spaces\n",
    "        print(\" \" * (n - i) * 2, end=\"\")\n",
    "\n",
    "        # Print increasing part\n",
    "        for j in range(i, 2 * i):\n",
    "            print(j, end=\" \")\n",
    "\n",
    "        # Print decreasing part\n",
    "        for j in range(2 * i - 2, i - 1, -1):\n",
    "            print(j, end=\" \")\n",
    "\n",
    "        # Move to the next line\n",
    "        print()\n",
    "\n",
    "# Call the function with n=5\n",
    "print_pattern(5)\n"
   ]
  },
  {
   "cell_type": "code",
   "execution_count": 62,
   "id": "b240bc61-77a3-45b3-87f4-3fd48d87ee43",
   "metadata": {},
   "outputs": [
    {
     "name": "stdout",
     "output_type": "stream",
     "text": [
      "* * * * * * * * * \n",
      "  * * * * * * * \n",
      "    * * * * * \n",
      "      * * * \n",
      "        * \n"
     ]
    }
   ],
   "source": [
    "def pattern_8(n):\n",
    "    x=\" \"\n",
    "    for i in range(n+1,0,-1):\n",
    "        if i%2 == 0:\n",
    "            continue\n",
    "        print(x * ((n) - i) + \"* \" * i,sep =\"\" )\n",
    "\n",
    "# Example usage\n",
    "pattern_8(9)\n",
    "\n"
   ]
  },
  {
   "cell_type": "code",
   "execution_count": 71,
   "id": "0fcca2ee-c82b-40bb-99fe-d8b25312145f",
   "metadata": {},
   "outputs": [
    {
     "name": "stdout",
     "output_type": "stream",
     "text": [
      "      1\n",
      "     1 1\n",
      "    1 2 1\n",
      "   1 3 3 1\n",
      "  1 4 6 4 1\n",
      " 1 5 10 10 5 1\n"
     ]
    }
   ],
   "source": [
    "def pascal_triangle(n):\n",
    "    triangle = []\n",
    "    \n",
    "    for i in range(n):\n",
    "        row = [1]\n",
    "        if i > 0:\n",
    "            for j in range(1, i):\n",
    "                row.append(triangle[i-1][j-1] + triangle[i-1][j])\n",
    "            row.append(1)\n",
    "\n",
    "        # Print leading spaces for alignment\n",
    "        print(\" \" * (n - i), end=\"\")\n",
    "        \n",
    "        # Print the current row with proper spacing\n",
    "        print(\" \".join(map(str, row)))\n",
    "        triangle.append(row)\n",
    "\n",
    "# Example usage\n",
    "pascal_triangle(6)\n",
    "\n"
   ]
  },
  {
   "cell_type": "code",
   "execution_count": 18,
   "id": "2528675b-d3e1-4e69-bbf6-a6768ac73a69",
   "metadata": {},
   "outputs": [
    {
     "name": "stdout",
     "output_type": "stream",
     "text": [
      "1 \n",
      "2 3 \n",
      "4 5 6 \n",
      "7 8 9 10 \n"
     ]
    }
   ],
   "source": [
    "def pattern_9(n):\n",
    "    num = 1\n",
    "    for i in range(1, n+1):\n",
    "        for j in range(i):\n",
    "            print(num, end=\" \")\n",
    "            num += 1\n",
    "        print()\n",
    "\n",
    "# Example usage\n",
    "pattern_9(4)\n"
   ]
  },
  {
   "cell_type": "code",
   "execution_count": 19,
   "id": "aa52a6d6-f1a6-4222-b087-9becd4019a1a",
   "metadata": {},
   "outputs": [
    {
     "name": "stdout",
     "output_type": "stream",
     "text": [
      "B \n",
      "A B \n",
      "B A B \n",
      "A B A B \n"
     ]
    }
   ],
   "source": [
    "def pattern_10(n):\n",
    "    for i in range(1, n+1):\n",
    "        for j in range(i):\n",
    "            print(chr(65 + (i+j) % 2), end=\" \")\n",
    "        print()\n",
    "\n",
    "# Example usage\n",
    "pattern_10(4)\n"
   ]
  },
  {
   "cell_type": "code",
   "execution_count": 20,
   "id": "30522fcb-021f-4093-a2cb-a9cfbe6a751d",
   "metadata": {},
   "outputs": [
    {
     "name": "stdout",
     "output_type": "stream",
     "text": [
      "0 \n",
      "1 0 1 \n",
      "0 1 0 1 0 \n",
      "1 0 1 0 1 0 1 \n"
     ]
    }
   ],
   "source": [
    "def pattern_11(n):\n",
    "    for i in range(n):\n",
    "        for j in range(2*i+1):\n",
    "            print((i+j) % 2, end=\" \")\n",
    "        print()\n",
    "\n",
    "# Example usage\n",
    "pattern_11(4)\n"
   ]
  },
  {
   "cell_type": "code",
   "execution_count": null,
   "id": "ef7ac401-f809-475e-916d-676e33257840",
   "metadata": {},
   "outputs": [],
   "source": []
  }
 ],
 "metadata": {
  "kernelspec": {
   "display_name": "Python 3 (ipykernel)",
   "language": "python",
   "name": "python3"
  },
  "language_info": {
   "codemirror_mode": {
    "name": "ipython",
    "version": 3
   },
   "file_extension": ".py",
   "mimetype": "text/x-python",
   "name": "python",
   "nbconvert_exporter": "python",
   "pygments_lexer": "ipython3",
   "version": "3.12.1"
  }
 },
 "nbformat": 4,
 "nbformat_minor": 5
}
