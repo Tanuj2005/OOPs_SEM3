{
 "cells": [
  {
   "cell_type": "code",
   "execution_count": 1,
   "id": "534bd7ab-86ce-4395-ac68-a7f69237194d",
   "metadata": {},
   "outputs": [
    {
     "name": "stdout",
     "output_type": "stream",
     "text": [
      "10 <class 'int'>\n",
      "12.5 <class 'float'>\n",
      "Hello <class 'str'>\n",
      "True <class 'bool'>\n",
      "[1, 2, 3] <class 'list'>\n",
      "(4, 5, 6) <class 'tuple'>\n",
      "{7: 'seven', 8: 'eight'} <class 'dict'>\n",
      "{9, 10, 11} <class 'set'>\n"
     ]
    }
   ],
   "source": [
    "# Program 1: Read and print values of variables of different data types with their type.\n",
    "variables = [10, 12.5, 'Hello', True, [1, 2, 3], (4, 5, 6), {7: 'seven', 8: 'eight'}, {9, 10, 11}]\n",
    "for var in variables:\n",
    "    print(var, type(var))"
   ]
  },
  {
   "cell_type": "code",
   "execution_count": 2,
   "id": "0f023849-9bad-4224-bb96-913219b7e75f",
   "metadata": {},
   "outputs": [
    {
     "name": "stdout",
     "output_type": "stream",
     "text": [
      "9.13\n",
      "2.22\n",
      "19.62\n",
      "1.64\n"
     ]
    }
   ],
   "source": [
    "# Program 2: Perform addition, subtraction, multiplication, division on two floating point numbers and print result up to two decimal places.\n",
    "x = 5.678\n",
    "y = 3.456\n",
    "operations = [x + y, x - y, x * y, x / y]\n",
    "for result in operations:\n",
    "    print(round(result, 2))"
   ]
  },
  {
   "cell_type": "code",
   "execution_count": 3,
   "id": "b5a1d3bd-f5cd-48c3-8aee-86b7361ca6a2",
   "metadata": {},
   "outputs": [
    {
     "name": "stdout",
     "output_type": "stream",
     "text": [
      "25\n",
      "5\n",
      "90.0\n",
      "2.0\n",
      "Python Programming\n",
      "[1, 2, 3, 4]\n"
     ]
    }
   ],
   "source": [
    "# Program 3: Demonstrate different data types and arithmetic operations in Python.\n",
    "data_types = [15 + 10, 20 - 15, 4.5 * 20, 20 / 10, \"Python\" + \" Programming\", [1, 2, 3] + [4]]\n",
    "for data in data_types:\n",
    "    print(data)"
   ]
  },
  {
   "cell_type": "code",
   "execution_count": 4,
   "id": "0ba81514-e2ba-48ac-ac9a-5038ab5487f1",
   "metadata": {},
   "outputs": [
    {
     "name": "stdout",
     "output_type": "stream",
     "text": [
      "-5.0\n",
      "5.0\n"
     ]
    }
   ],
   "source": [
    "# Program 4: Find the average of two numbers and print their deviation.\n",
    "numbers = [25, 35]\n",
    "average = sum(numbers) / len(numbers)\n",
    "for num in numbers:\n",
    "    print(num - average)\n"
   ]
  },
  {
   "cell_type": "code",
   "execution_count": 5,
   "id": "4343983e-f1bd-4ce7-941c-88ef3b9ed757",
   "metadata": {},
   "outputs": [
    {
     "name": "stdout",
     "output_type": "stream",
     "text": [
      "*****************BILL********************\n",
      "Item Name   Item Quantity  Item Price\n",
      "Rice     2             50.75\n",
      "Wheat     5             30.25\n",
      "******************************************\n",
      "Total Amount to be Paid:  252.75\n",
      "******************************************\n"
     ]
    }
   ],
   "source": [
    "# Program 5: Prepare a grocery bill.\n",
    "items = [(\"Rice\", 2, 50.75), (\"Wheat\", 5, 30.25)]\n",
    "total_amount = 0\n",
    "print(\"*****************BILL********************\")\n",
    "print(\"Item Name   Item Quantity  Item Price\")\n",
    "for item in items:\n",
    "    print(item[0], \"   \", item[1], \"           \", item[2])\n",
    "    total_amount += item[1] * item[2]\n",
    "print(\"******************************************\")\n",
    "print(\"Total Amount to be Paid: \", total_amount)\n",
    "print(\"******************************************\")"
   ]
  },
  {
   "cell_type": "code",
   "execution_count": null,
   "id": "c40bcd0a-7556-47b6-b29b-3644b10ce37f",
   "metadata": {},
   "outputs": [],
   "source": []
  }
 ],
 "metadata": {
  "kernelspec": {
   "display_name": "Python 3 (ipykernel)",
   "language": "python",
   "name": "python3"
  },
  "language_info": {
   "codemirror_mode": {
    "name": "ipython",
    "version": 3
   },
   "file_extension": ".py",
   "mimetype": "text/x-python",
   "name": "python",
   "nbconvert_exporter": "python",
   "pygments_lexer": "ipython3",
   "version": "3.12.1"
  }
 },
 "nbformat": 4,
 "nbformat_minor": 5
}
