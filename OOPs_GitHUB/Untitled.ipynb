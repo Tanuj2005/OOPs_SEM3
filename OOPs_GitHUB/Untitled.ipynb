{
 "cells": [
  {
   "cell_type": "markdown",
   "id": "1ff51041-b23d-4600-982b-420e50d36112",
   "metadata": {},
   "source": [
    "WAP to compute distance between two points taking input from the user"
   ]
  },
  {
   "cell_type": "code",
   "execution_count": 3,
   "id": "99b01c0f-5ab3-470f-8e7a-19ea094d578f",
   "metadata": {},
   "outputs": [
    {
     "name": "stdout",
     "output_type": "stream",
     "text": [
      "Enter the points:\n"
     ]
    },
    {
     "name": "stdin",
     "output_type": "stream",
     "text": [
      "Enter x1: 1\n",
      "Enter y1: 2\n",
      "Enter x2: 3\n",
      "Enter y2: 4\n"
     ]
    }
   ],
   "source": [
    "print(\"Enter the points:\")\n",
    "X1 = int(input(\"Enter x1:\"))\n",
    "Y1 = int(input(\"Enter y1:\"))\n",
    "X2 = int(input(\"Enter x2:\"))\n",
    "Y2 = int(input(\"Enter y2:\"))\n"
   ]
  },
  {
   "cell_type": "code",
   "execution_count": 4,
   "id": "8792894a-f382-4c35-96c9-374d65701e33",
   "metadata": {},
   "outputs": [],
   "source": [
    "import math\n",
    "distance = math.sqrt((X2-X1)**2 + (Y2-Y1)**2)"
   ]
  },
  {
   "cell_type": "code",
   "execution_count": 5,
   "id": "b41ff15b-fa8c-4412-ba29-3ad4a7c6d521",
   "metadata": {},
   "outputs": [
    {
     "name": "stdout",
     "output_type": "stream",
     "text": [
      "2.8284271247461903\n"
     ]
    }
   ],
   "source": [
    "print(distance)\n"
   ]
  },
  {
   "cell_type": "markdown",
   "id": "79b44ad4-bcc0-4fde-98e0-40b875079c2e",
   "metadata": {},
   "source": [
    "list 25 elements mean median mode\n",
    "slice the list into 5 lists \n",
    "merge the even index lists together and odd index lists together"
   ]
  },
  {
   "cell_type": "code",
   "execution_count": 8,
   "id": "74f779d6-d24e-4710-8969-a560b35cbcf3",
   "metadata": {},
   "outputs": [
    {
     "name": "stdout",
     "output_type": "stream",
     "text": [
      "Enter the elements of the list:\n"
     ]
    },
    {
     "name": "stdin",
     "output_type": "stream",
     "text": [
      "Enter element: 1\n",
      "Enter element: 2\n",
      "Enter element: 3\n",
      "Enter element: 4\n",
      "Enter element: 5\n",
      "Enter element: 6\n",
      "Enter element: 7\n",
      "Enter element: 8\n",
      "Enter element: 9\n",
      "Enter element: 10\n",
      "Enter element: 11\n",
      "Enter element: 34\n",
      "Enter element: 65\n",
      "Enter element: 87\n",
      "Enter element: 23\n",
      "Enter element: 89\n",
      "Enter element: 23\n",
      "Enter element: 98\n",
      "Enter element: 45\n",
      "Enter element: 234\n",
      "Enter element: 990\n",
      "Enter element: 34\n",
      "Enter element: 898\n",
      "Enter element: 77\n",
      "Enter element: 65\n"
     ]
    }
   ],
   "source": [
    "print(\"Enter the elements of the list:\")\n",
    "arr = []\n",
    "for i in range(25):\n",
    "    inp = int(input(\"Enter element:\"))\n",
    "    arr.append(inp)"
   ]
  },
  {
   "cell_type": "code",
   "execution_count": 9,
   "id": "78a8331c-df0d-4d01-a910-bfb2b2110eab",
   "metadata": {},
   "outputs": [],
   "source": [
    "import statistics\n"
   ]
  },
  {
   "cell_type": "code",
   "execution_count": 10,
   "id": "d1c0c3f0-f3e1-4efb-9450-7407b1011f10",
   "metadata": {},
   "outputs": [],
   "source": [
    "mean = statistics.mean(arr)\n",
    "median = statistics.median(arr)\n",
    "mode = statistics.mode(arr)"
   ]
  },
  {
   "cell_type": "code",
   "execution_count": 11,
   "id": "1ca8d1f9-63f4-4354-a2e8-55c142991ad6",
   "metadata": {},
   "outputs": [
    {
     "name": "stdout",
     "output_type": "stream",
     "text": [
      "mean:113.12 median:23 mode:34\n"
     ]
    }
   ],
   "source": [
    "print(f\"mean:{mean} median:{median} mode:{mode}\")"
   ]
  },
  {
   "cell_type": "markdown",
   "id": "aba8a8c3-8c0e-4205-97dc-b424cb90d776",
   "metadata": {},
   "source": []
  },
  {
   "cell_type": "code",
   "execution_count": 12,
   "id": "8f07a03f-5b03-4f89-aa44-d0878638e478",
   "metadata": {},
   "outputs": [],
   "source": [
    "list1 = arr[0:5]\n",
    "list2 = arr[5:10]\n",
    "list3 = arr[10:15]\n",
    "list4 = arr[15:20]\n",
    "list5 = arr[20:25]"
   ]
  },
  {
   "cell_type": "code",
   "execution_count": 13,
   "id": "59034747-42bb-46fe-a876-0aadf6dffd06",
   "metadata": {},
   "outputs": [],
   "source": [
    "list_ka_list = [list1,list2,list3,list4,list5]"
   ]
  },
  {
   "cell_type": "code",
   "execution_count": 14,
   "id": "1b6fbada-7cb4-4fe9-99e9-a9797e84e7ce",
   "metadata": {},
   "outputs": [],
   "source": [
    "i =0\n",
    "evenList = []\n",
    "oddList = []\n",
    "for list in list_ka_list:\n",
    "    if(i%2==0):\n",
    "        evenList = evenList + list\n",
    "    else:\n",
    "        oddList = oddList + list\n",
    "    i=i+1\n",
    "\n",
    "        "
   ]
  },
  {
   "cell_type": "code",
   "execution_count": 15,
   "id": "bebc893a-665a-45f4-8346-f3a666efa486",
   "metadata": {},
   "outputs": [
    {
     "name": "stdout",
     "output_type": "stream",
     "text": [
      "[1, 2, 3, 4, 5, 11, 34, 65, 87, 23, 990, 34, 898, 77, 65]\n"
     ]
    }
   ],
   "source": [
    "print(evenList)"
   ]
  },
  {
   "cell_type": "code",
   "execution_count": 16,
   "id": "cc2418b1-1f34-4ac6-a6f1-9259135066d9",
   "metadata": {},
   "outputs": [
    {
     "name": "stdout",
     "output_type": "stream",
     "text": [
      "[6, 7, 8, 9, 10, 89, 23, 98, 45, 234]\n"
     ]
    }
   ],
   "source": [
    "print(oddList)"
   ]
  },
  {
   "cell_type": "code",
   "execution_count": null,
   "id": "a160f34c-f0bc-4117-90c1-5492e72c61df",
   "metadata": {},
   "outputs": [],
   "source": []
  }
 ],
 "metadata": {
  "kernelspec": {
   "display_name": "Python 3 (ipykernel)",
   "language": "python",
   "name": "python3"
  },
  "language_info": {
   "codemirror_mode": {
    "name": "ipython",
    "version": 3
   },
   "file_extension": ".py",
   "mimetype": "text/x-python",
   "name": "python",
   "nbconvert_exporter": "python",
   "pygments_lexer": "ipython3",
   "version": "3.12.4"
  }
 },
 "nbformat": 4,
 "nbformat_minor": 5
}
