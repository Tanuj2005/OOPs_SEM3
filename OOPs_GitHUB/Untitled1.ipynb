{
 "cells": [
  {
   "cell_type": "code",
   "execution_count": 1,
   "id": "5833d65c-b20f-40fb-8046-ff9071e00451",
   "metadata": {},
   "outputs": [],
   "source": [
    "name = \"Tanuj Tyagi 23FE10CSE00715 KK Tyagi\""
   ]
  },
  {
   "cell_type": "code",
   "execution_count": 10,
   "id": "bdcda4a5-d61c-4d3d-8274-a2d85c5983e0",
   "metadata": {},
   "outputs": [],
   "source": [
    "reg = \"\"\n",
    "for i in range(12,26):\n",
    "    reg = reg+name[i]\n",
    "    "
   ]
  },
  {
   "cell_type": "code",
   "execution_count": 11,
   "id": "dbb65b78-af41-40da-a1b9-a0b4db01ed80",
   "metadata": {},
   "outputs": [
    {
     "data": {
      "text/plain": [
       "'23FE10CSE00715'"
      ]
     },
     "execution_count": 11,
     "metadata": {},
     "output_type": "execute_result"
    }
   ],
   "source": [
    "reg"
   ]
  },
  {
   "cell_type": "code",
   "execution_count": 13,
   "id": "4dad7e5f-52ad-4906-97ee-b0d726692b1a",
   "metadata": {},
   "outputs": [],
   "source": [
    "DNA_SEQ_50 = \"ATCGGATCGACCATGTTAGCGGATGCAATGCCCTTGAATGCCCCTATAGT\""
   ]
  },
  {
   "cell_type": "code",
   "execution_count": 14,
   "id": "480ad6d5-c088-4de7-ae4f-63f5ab8a7c95",
   "metadata": {},
   "outputs": [],
   "source": [
    "DNA_SEQ_100 = \"ATGCTAGGCTTACGATCGGCTAATCGGCTAGTACGATCGGATCCGATCGGATCCGATGCTAGTACGAGTACGATCGGCTAGCTAG\"\n"
   ]
  },
  {
   "cell_type": "code",
   "execution_count": 17,
   "id": "c7b68e25-edb2-46b0-bb71-1e3014ba5af0",
   "metadata": {},
   "outputs": [],
   "source": [
    "T = 0\n",
    "G = 0\n",
    "C = 0\n",
    "A = 0\n",
    "\n",
    "for i in range(50):\n",
    "    if(DNA_SEQ_50[i] == 'T' and DNA_SEQ_100[i] == 'T'):\n",
    "        T = T+1\n",
    "    if(DNA_SEQ_50[i] == 'A' and DNA_SEQ_100[i] == 'A'):\n",
    "        A = A+1\n",
    "    if(DNA_SEQ_50[i] == 'G' and DNA_SEQ_100[i] == 'G'):\n",
    "        G = G+1\n",
    "    if(DNA_SEQ_50[i] == 'C' and DNA_SEQ_100[i] == 'C'):\n",
    "        C = C+1"
   ]
  },
  {
   "cell_type": "code",
   "execution_count": 18,
   "id": "70b55041-e146-41d3-a9b0-e8dc61bbf032",
   "metadata": {},
   "outputs": [
    {
     "name": "stdout",
     "output_type": "stream",
     "text": [
      "T MATCHED:5 A MATCHED:4 G MATCHED:3 C MATCHED:3\n"
     ]
    }
   ],
   "source": [
    "print(f\"T MATCHED:{T} A MATCHED:{A} G MATCHED:{G} C MATCHED:{C}\")"
   ]
  },
  {
   "cell_type": "markdown",
   "id": "a01c49bd-d50c-467e-ba98-0c70f72e5147",
   "metadata": {},
   "source": [
    "Longest Sequence Match"
   ]
  },
  {
   "cell_type": "code",
   "execution_count": 23,
   "id": "bc86b2a2-a35a-4be4-b360-d85ebf862b46",
   "metadata": {},
   "outputs": [],
   "source": [
    "longest = 0\n",
    "current = 0\n",
    "for i in range(50):\n",
    "    if(DNA_SEQ_50[i] == DNA_SEQ_100[i]):\n",
    "        current = current +1\n",
    "        for j in range(i,50):\n",
    "            if(DNA_SEQ_50[j] == DNA_SEQ_100[j] and DNA_SEQ_50[j+1] == DNA_SEQ_100[j+1]):\n",
    "                current=current+1\n",
    "        \n",
    "        if(longest < current):\n",
    "            longest = current\n",
    "        current =0"
   ]
  },
  {
   "cell_type": "code",
   "execution_count": 24,
   "id": "8c36a66f-c193-493d-b6f6-32b697dffcae",
   "metadata": {},
   "outputs": [
    {
     "name": "stdout",
     "output_type": "stream",
     "text": [
      "6\n"
     ]
    }
   ],
   "source": [
    "print(longest)"
   ]
  },
  {
   "cell_type": "code",
   "execution_count": null,
   "id": "7e025908-a46f-42de-8c58-46075bad66c6",
   "metadata": {},
   "outputs": [],
   "source": []
  }
 ],
 "metadata": {
  "kernelspec": {
   "display_name": "Python 3 (ipykernel)",
   "language": "python",
   "name": "python3"
  },
  "language_info": {
   "codemirror_mode": {
    "name": "ipython",
    "version": 3
   },
   "file_extension": ".py",
   "mimetype": "text/x-python",
   "name": "python",
   "nbconvert_exporter": "python",
   "pygments_lexer": "ipython3",
   "version": "3.12.4"
  }
 },
 "nbformat": 4,
 "nbformat_minor": 5
}
