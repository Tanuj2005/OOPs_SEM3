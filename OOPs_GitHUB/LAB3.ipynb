{
 "cells": [
  {
   "cell_type": "code",
   "execution_count": 6,
   "id": "f9aaafec-9dc4-4e2b-9dda-35807eb0399b",
   "metadata": {},
   "outputs": [
    {
     "name": "stdout",
     "output_type": "stream",
     "text": [
      "Prime\n"
     ]
    }
   ],
   "source": [
    "# Program 1: Find if a number is prime or not\n",
    "num = 29\n",
    "is_prime = True\n",
    "if num > 1:\n",
    "    for i in range(2, num):\n",
    "        if num % i == 0:\n",
    "            is_prime = False\n",
    "            break\n",
    "if is_prime:\n",
    "    print(\"Prime\")\n",
    "else:\n",
    "    print(\"Not Prime\")"
   ]
  },
  {
   "cell_type": "code",
   "execution_count": 7,
   "id": "480b8ef7-3af5-454d-86a7-c68351f613b4",
   "metadata": {},
   "outputs": [
    {
     "name": "stdout",
     "output_type": "stream",
     "text": [
      "Palindrome\n"
     ]
    }
   ],
   "source": [
    "# Program 2: Find if the given number is palindrome or not\n",
    "num = 121\n",
    "original_num = num\n",
    "reversed_num = 0\n",
    "while num > 0:\n",
    "    digit = num % 10\n",
    "    reversed_num = reversed_num * 10 + digit\n",
    "    num = num // 10\n",
    "if original_num == reversed_num:\n",
    "    print(\"Palindrome\")\n",
    "else:\n",
    "    print(\"Not Palindrome\")"
   ]
  },
  {
   "cell_type": "code",
   "execution_count": 8,
   "id": "2f36d593-9fb5-4657-ac80-2a83d4d3c4ee",
   "metadata": {},
   "outputs": [
    {
     "name": "stdout",
     "output_type": "stream",
     "text": [
      "Grade B\n"
     ]
    }
   ],
   "source": [
    "# Program 3: Find the grade of a student using the given percentage\n",
    "percentage = 85\n",
    "if percentage >= 90:\n",
    "    print(\"Grade A\")\n",
    "elif percentage >= 80:\n",
    "    print(\"Grade B\")\n",
    "elif percentage >= 70:\n",
    "    print(\"Grade C\")\n",
    "elif percentage >= 60:\n",
    "    print(\"Grade D\")\n",
    "else:\n",
    "    print(\"Fail\")"
   ]
  },
  {
   "cell_type": "code",
   "execution_count": 9,
   "id": "61194500-b384-4846-a2bc-cbab85975f17",
   "metadata": {},
   "outputs": [
    {
     "name": "stdout",
     "output_type": "stream",
     "text": [
      "20\n"
     ]
    }
   ],
   "source": [
    "# Program 4: Create a simple console-based calculator\n",
    "a = 15\n",
    "b = 5\n",
    "operation = \"+\"\n",
    "if operation == \"+\":\n",
    "    print(a + b)\n",
    "elif operation == \"-\":\n",
    "    print(a - b)\n",
    "elif operation == \"*\":\n",
    "    print(a * b)\n",
    "elif operation == \"/\":\n",
    "    print(a / b)"
   ]
  },
  {
   "cell_type": "code",
   "execution_count": null,
   "id": "c606b366-a5e9-4cb7-b1af-bb05a582d908",
   "metadata": {},
   "outputs": [],
   "source": []
  }
 ],
 "metadata": {
  "kernelspec": {
   "display_name": "Python 3 (ipykernel)",
   "language": "python",
   "name": "python3"
  },
  "language_info": {
   "codemirror_mode": {
    "name": "ipython",
    "version": 3
   },
   "file_extension": ".py",
   "mimetype": "text/x-python",
   "name": "python",
   "nbconvert_exporter": "python",
   "pygments_lexer": "ipython3",
   "version": "3.12.1"
  }
 },
 "nbformat": 4,
 "nbformat_minor": 5
}
